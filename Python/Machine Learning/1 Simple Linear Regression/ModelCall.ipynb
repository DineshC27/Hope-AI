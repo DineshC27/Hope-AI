{
 "cells": [
  {
   "cell_type": "code",
   "execution_count": 1,
   "id": "abbccc03-451f-42d3-8c67-86834bbadda9",
   "metadata": {},
   "outputs": [],
   "source": [
    "#Invoking the class pickle to loade our model\n",
    "#rb indicate read binary\n",
    "import pickle\n",
    "aimodel=pickle.load(open(\"SlaryPredict.sav\",'rb')) #loading the model to aimodel variable"
   ]
  },
  {
   "cell_type": "code",
   "execution_count": 3,
   "id": "75fcce23-3e25-4bdf-96c2-e565d3cf8451",
   "metadata": {},
   "outputs": [
    {
     "name": "stderr",
     "output_type": "stream",
     "text": [
      "C:\\Users\\vprad\\anaconda3\\Lib\\site-packages\\sklearn\\base.py:493: UserWarning: X does not have valid feature names, but LinearRegression was fitted with feature names\n",
      "  warnings.warn(\n"
     ]
    }
   ],
   "source": [
    "rs=aimodel.predict([[25.6]]) #Predicting the output using model and assign the output to a variable"
   ]
  },
  {
   "cell_type": "code",
   "execution_count": 5,
   "id": "294f7bcc-c209-4d0b-bb74-d6c1db012a9a",
   "metadata": {},
   "outputs": [
    {
     "data": {
      "text/plain": [
       "array([[270150.94781716]])"
      ]
     },
     "execution_count": 5,
     "metadata": {},
     "output_type": "execute_result"
    }
   ],
   "source": [
    "rs #View the predicted output"
   ]
  },
  {
   "cell_type": "code",
   "execution_count": 7,
   "id": "be314bf4-df86-4ca6-8e9b-4a1b56215b3d",
   "metadata": {},
   "outputs": [
    {
     "name": "stdout",
     "output_type": "stream",
     "text": [
      "[[270150.94781716]]\n"
     ]
    }
   ],
   "source": [
    "print(rs)"
   ]
  },
  {
   "cell_type": "code",
   "execution_count": null,
   "id": "e6793970-18d2-43cd-b9fb-309310e97377",
   "metadata": {},
   "outputs": [],
   "source": []
  }
 ],
 "metadata": {
  "kernelspec": {
   "display_name": "Python [conda env:base] *",
   "language": "python",
   "name": "conda-base-py"
  },
  "language_info": {
   "codemirror_mode": {
    "name": "ipython",
    "version": 3
   },
   "file_extension": ".py",
   "mimetype": "text/x-python",
   "name": "python",
   "nbconvert_exporter": "python",
   "pygments_lexer": "ipython3",
   "version": "3.12.7"
  }
 },
 "nbformat": 4,
 "nbformat_minor": 5
}
