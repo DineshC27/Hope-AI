{
 "cells": [
  {
   "cell_type": "code",
   "execution_count": 1,
   "id": "a5af2f05-663e-4181-8115-cbd10c24f019",
   "metadata": {},
   "outputs": [
    {
     "name": "stdout",
     "output_type": "stream",
     "text": [
      "Sub-fields in AI are:\n",
      "Machine Learning\n",
      "Neural Networks\n",
      "Vision\n",
      "Robotics\n",
      "Speech Processing\n",
      "Natural Language Processing\n"
     ]
    }
   ],
   "source": [
    "from Calculations import Math\n",
    "Math.Subfields()"
   ]
  },
  {
   "cell_type": "code",
   "execution_count": 3,
   "id": "a60d18ef-5c97-4822-b632-acb0df66cf00",
   "metadata": {},
   "outputs": [
    {
     "name": "stdin",
     "output_type": "stream",
     "text": [
      "Enter a number :  52452\n"
     ]
    },
    {
     "name": "stdout",
     "output_type": "stream",
     "text": [
      "52452  is Even number\n"
     ]
    }
   ],
   "source": [
    "Math.OddEven()"
   ]
  },
  {
   "cell_type": "code",
   "execution_count": 5,
   "id": "a21113ac-36a5-4469-8caf-e6ac36771b85",
   "metadata": {},
   "outputs": [
    {
     "name": "stdin",
     "output_type": "stream",
     "text": [
      "Your Gender: Male\n",
      "Your Age: 20\n"
     ]
    },
    {
     "name": "stdout",
     "output_type": "stream",
     "text": [
      "NOT ELIGIBLE\n"
     ]
    }
   ],
   "source": [
    "Math.Elegible()"
   ]
  },
  {
   "cell_type": "code",
   "execution_count": 7,
   "id": "6f2f5745-e312-42e7-8f18-16c08b4eb537",
   "metadata": {},
   "outputs": [
    {
     "name": "stdin",
     "output_type": "stream",
     "text": [
      "Subject1=  98\n",
      "Subject2=  87\n",
      "Subject3=  95\n",
      "Subject4=  95\n",
      "Subject5=  93\n"
     ]
    },
    {
     "name": "stdout",
     "output_type": "stream",
     "text": [
      "Total :  468\n",
      "Percentage :  93.6\n"
     ]
    }
   ],
   "source": [
    "Math.percentage()"
   ]
  },
  {
   "cell_type": "code",
   "execution_count": 9,
   "id": "140fa369-86f3-40be-b19a-9a058b49afb4",
   "metadata": {},
   "outputs": [
    {
     "name": "stdin",
     "output_type": "stream",
     "text": [
      "Height : 32\n",
      "Breadth : 34\n"
     ]
    },
    {
     "name": "stdout",
     "output_type": "stream",
     "text": [
      "Area formula: (Height*Breadtg)/2\n",
      "Area of Triangle: 544.0\n"
     ]
    },
    {
     "name": "stdin",
     "output_type": "stream",
     "text": [
      "Height1 : 2\n",
      "Height2 : 4\n",
      "Breadth : 4\n"
     ]
    },
    {
     "name": "stdout",
     "output_type": "stream",
     "text": [
      "Perimeter formula: Height1+Height2+Breadth\n",
      "Perimeter of Triangle: 10\n"
     ]
    }
   ],
   "source": [
    "Math.triangle()"
   ]
  },
  {
   "cell_type": "code",
   "execution_count": null,
   "id": "15fed79f-bca0-4d9b-aa69-c98a8a39ef7a",
   "metadata": {},
   "outputs": [],
   "source": []
  }
 ],
 "metadata": {
  "kernelspec": {
   "display_name": "Python [conda env:base] *",
   "language": "python",
   "name": "conda-base-py"
  },
  "language_info": {
   "codemirror_mode": {
    "name": "ipython",
    "version": 3
   },
   "file_extension": ".py",
   "mimetype": "text/x-python",
   "name": "python",
   "nbconvert_exporter": "python",
   "pygments_lexer": "ipython3",
   "version": "3.12.7"
  }
 },
 "nbformat": 4,
 "nbformat_minor": 5
}
