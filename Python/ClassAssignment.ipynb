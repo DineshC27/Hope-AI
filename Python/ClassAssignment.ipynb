{
 "cells": [
  {
   "cell_type": "code",
   "execution_count": 4,
   "id": "ad685d71-ab93-4c4e-b4e1-35950003fbed",
   "metadata": {},
   "outputs": [
    {
     "name": "stdout",
     "output_type": "stream",
     "text": [
      "Sub-fields in AI are:\n",
      "Machine Learning\n",
      "Neural Networks\n",
      "Vision\n",
      "Robotics\n",
      "Speech Processing\n",
      "Natural Language Processing\n"
     ]
    }
   ],
   "source": [
    "from SubfieldsInAI import SubfieldsInAI\n",
    "SubfieldsInAI.Subfields()"
   ]
  },
  {
   "cell_type": "code",
   "execution_count": 8,
   "id": "09a7b457-de06-4646-8e52-773963881bea",
   "metadata": {},
   "outputs": [
    {
     "name": "stdin",
     "output_type": "stream",
     "text": [
      "Enter a number :  52452\n"
     ]
    },
    {
     "name": "stdout",
     "output_type": "stream",
     "text": [
      "52452  is Even number\n"
     ]
    }
   ],
   "source": [
    "from Oddeven import OddEven\n",
    "OddEven.OddEven()"
   ]
  },
  {
   "cell_type": "code",
   "execution_count": 10,
   "id": "41e26aad-d264-484d-88b8-9ab4d6b1a05e",
   "metadata": {},
   "outputs": [
    {
     "name": "stdin",
     "output_type": "stream",
     "text": [
      "Your Gender: Male\n",
      "Your Age: 20\n"
     ]
    },
    {
     "name": "stdout",
     "output_type": "stream",
     "text": [
      "NOT ELIGIBLE\n"
     ]
    }
   ],
   "source": [
    "from Elegibility import ElegiblityForMarriage\n",
    "ElegiblityForMarriage.Elegible()"
   ]
  },
  {
   "cell_type": "code",
   "execution_count": 12,
   "id": "11e2353f-5b43-424a-8acf-8a4cdb8d1dee",
   "metadata": {},
   "outputs": [
    {
     "name": "stdin",
     "output_type": "stream",
     "text": [
      "Subject1=  98\n",
      "Subject2=  87\n",
      "Subject3=  95\n",
      "Subject4=  95\n",
      "Subject5=  93\n"
     ]
    },
    {
     "name": "stdout",
     "output_type": "stream",
     "text": [
      "Total :  468\n",
      "Percentage :  93.6\n"
     ]
    }
   ],
   "source": [
    "from PercentageCal import FindPercent\n",
    "FindPercent.percentage()"
   ]
  },
  {
   "cell_type": "code",
   "execution_count": 14,
   "id": "6298c0fa-d25a-48b6-8d33-b8e7c7fce5f7",
   "metadata": {},
   "outputs": [
    {
     "name": "stdin",
     "output_type": "stream",
     "text": [
      "Height : 32\n",
      "Breadth : 34\n"
     ]
    },
    {
     "name": "stdout",
     "output_type": "stream",
     "text": [
      "Area formula: (Height*Breadtg)/2\n",
      "Area of Triangle: 544.0\n"
     ]
    },
    {
     "name": "stdin",
     "output_type": "stream",
     "text": [
      "Height1 : 2\n",
      "Height2 : 4\n",
      "Breadth : 4\n"
     ]
    },
    {
     "name": "stdout",
     "output_type": "stream",
     "text": [
      "Perimeter formula: Height1+Height2+Breadth\n",
      "Perimeter of Triangle: 10\n"
     ]
    }
   ],
   "source": [
    "from AreaCalc import triangle\n",
    "triangle.triangle()"
   ]
  },
  {
   "cell_type": "code",
   "execution_count": null,
   "id": "f2faf486-3161-4617-a721-73391e97c9de",
   "metadata": {},
   "outputs": [],
   "source": []
  }
 ],
 "metadata": {
  "kernelspec": {
   "display_name": "Python [conda env:base] *",
   "language": "python",
   "name": "conda-base-py"
  },
  "language_info": {
   "codemirror_mode": {
    "name": "ipython",
    "version": 3
   },
   "file_extension": ".py",
   "mimetype": "text/x-python",
   "name": "python",
   "nbconvert_exporter": "python",
   "pygments_lexer": "ipython3",
   "version": "3.12.7"
  }
 },
 "nbformat": 4,
 "nbformat_minor": 5
}
