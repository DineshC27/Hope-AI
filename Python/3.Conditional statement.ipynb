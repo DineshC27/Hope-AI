{
 "cells": [
  {
   "cell_type": "code",
   "execution_count": 1,
   "id": "a0ae2703-63fc-4a16-8f32-cb1a184526ca",
   "metadata": {},
   "outputs": [
    {
     "ename": "SyntaxError",
     "evalue": "cannot assign to literal here. Maybe you meant '==' instead of '='? (1212352012.py, line 1)",
     "output_type": "error",
     "traceback": [
      "\u001b[1;36m  Cell \u001b[1;32mIn[1], line 1\u001b[1;36m\u001b[0m\n\u001b[1;33m    if(1=1):\u001b[0m\n\u001b[1;37m       ^\u001b[0m\n\u001b[1;31mSyntaxError\u001b[0m\u001b[1;31m:\u001b[0m cannot assign to literal here. Maybe you meant '==' instead of '='?\n"
     ]
    }
   ],
   "source": [
    "if(1=1):\n",
    "    print(\"True\")"
   ]
  },
  {
   "cell_type": "code",
   "execution_count": 3,
   "id": "5bc99683-fba3-46bf-ad51-f265caf2ec09",
   "metadata": {},
   "outputs": [
    {
     "name": "stdout",
     "output_type": "stream",
     "text": [
      "True\n"
     ]
    }
   ],
   "source": [
    "if(1==1):\n",
    "    print(\"True\")"
   ]
  },
  {
   "cell_type": "code",
   "execution_count": 5,
   "id": "c3aae0de-3471-473e-8c3b-88bef6cf2e0e",
   "metadata": {},
   "outputs": [
    {
     "name": "stdin",
     "output_type": "stream",
     "text": [
      "Enter your age:  34\n"
     ]
    },
    {
     "name": "stdout",
     "output_type": "stream",
     "text": [
      "He/She is adult\n"
     ]
    }
   ],
   "source": [
    "age=int(input(\"Enter your age: \"))\n",
    "if(age >= 18):\n",
    "    print(\"He/She is adult\")\n",
    "    "
   ]
  },
  {
   "cell_type": "code",
   "execution_count": 7,
   "id": "089babd6-dc58-4f62-a6f8-ec2a2e1f0d4b",
   "metadata": {},
   "outputs": [
    {
     "name": "stdin",
     "output_type": "stream",
     "text": [
      "Enter your age:  76\n"
     ]
    },
    {
     "name": "stdout",
     "output_type": "stream",
     "text": [
      "He/She is an adult\n"
     ]
    }
   ],
   "source": [
    "age=int(input(\"Enter your age: \"))\n",
    "if(age >= 18):\n",
    "    print(\"He/She is an adult\")\n",
    "else:\n",
    "    print(\"He/She is a child\")"
   ]
  },
  {
   "cell_type": "code",
   "execution_count": null,
   "id": "e05d9d0e-b842-44cd-a288-b40b6c56781c",
   "metadata": {},
   "outputs": [],
   "source": [
    "age=int(input(\"Enter your age: \"))\n",
    "if(age >= 18):\n",
    "    {\n",
    "    print(\"He/She is an adult\")\n",
    "    }\n",
    "else:\n",
    "    print(\"He/She is a child\")"
   ]
  },
  {
   "cell_type": "code",
   "execution_count": null,
   "id": "62542efa-0bab-4b2b-a0db-9ef2a783e7c2",
   "metadata": {},
   "outputs": [],
   "source": [
    "age=int(input(\"Enter your age: \"))\n",
    "if(age >= 18):\n",
    "    {\n",
    "    print(\"He/She is an adult\"):\n",
    "    print(\"Please proceed to vote\")\n",
    "    }\n",
    "else:\n",
    "    print(\"He/She is a child\")"
   ]
  },
  {
   "cell_type": "code",
   "execution_count": null,
   "id": "54af0485-3290-4a3d-809d-27a2d18bf7d2",
   "metadata": {},
   "outputs": [],
   "source": [
    "age=int(input(\"Enter your age: \"))\n",
    "if(age >= 18):\n",
    "    print(\"He/She is an adult\")\n",
    "    print(\"Please proceed to vote\")\n",
    "    \n",
    "else:\n",
    "    print(\"He/She is a child\")"
   ]
  },
  {
   "cell_type": "code",
   "execution_count": 19,
   "id": "2a2f0593-7826-41fa-b206-56db8e012b61",
   "metadata": {},
   "outputs": [
    {
     "name": "stdin",
     "output_type": "stream",
     "text": [
      "Enter your age:  11\n"
     ]
    }
   ],
   "source": [
    "age=int(input(\"Enter your age: \"))\n",
    "if(age < 10 or (age >12 and age <18) ):\n",
    "    print(\"He/She is a child\")\n",
    "elif(age >=18 and age <35 ):\n",
    "    print(\"He/She is an adult\")"
   ]
  },
  {
   "cell_type": "code",
   "execution_count": 21,
   "id": "34eb40cc-6b7a-4b2e-b82a-c85db1d73b32",
   "metadata": {},
   "outputs": [
    {
     "name": "stdin",
     "output_type": "stream",
     "text": [
      "Enter your age:  15\n"
     ]
    },
    {
     "name": "stdout",
     "output_type": "stream",
     "text": [
      "He/She is a child\n"
     ]
    }
   ],
   "source": [
    "age=int(input(\"Enter your age: \"))\n",
    "if(age < 10 or (age >12 and age <18) ):\n",
    "    print(\"He/She is a child\")\n",
    "elif(age >=18 and age <35 ):\n",
    "    print(\"He/She is an adult\")"
   ]
  },
  {
   "cell_type": "code",
   "execution_count": 23,
   "id": "0bf7d809-9971-413b-8096-6ee9f6f66c65",
   "metadata": {},
   "outputs": [
    {
     "ename": "SyntaxError",
     "evalue": "invalid syntax. Maybe you meant '==' or ':=' instead of '='? (1072791178.py, line 1)",
     "output_type": "error",
     "traceback": [
      "\u001b[1;36m  Cell \u001b[1;32mIn[23], line 1\u001b[1;36m\u001b[0m\n\u001b[1;33m    for (i=0;i<5;i++)\u001b[0m\n\u001b[1;37m         ^\u001b[0m\n\u001b[1;31mSyntaxError\u001b[0m\u001b[1;31m:\u001b[0m invalid syntax. Maybe you meant '==' or ':=' instead of '='?\n"
     ]
    }
   ],
   "source": [
    "for (i=0;i<5;i++)\n",
    "print (i)"
   ]
  },
  {
   "cell_type": "code",
   "execution_count": 25,
   "id": "d0d8c882-b47a-4ac6-83e8-b21c7cac2abc",
   "metadata": {},
   "outputs": [
    {
     "ename": "IndentationError",
     "evalue": "expected an indented block after 'for' statement on line 2 (3190785726.py, line 3)",
     "output_type": "error",
     "traceback": [
      "\u001b[1;36m  Cell \u001b[1;32mIn[25], line 3\u001b[1;36m\u001b[0m\n\u001b[1;33m    print(tmp)\u001b[0m\n\u001b[1;37m    ^\u001b[0m\n\u001b[1;31mIndentationError\u001b[0m\u001b[1;31m:\u001b[0m expected an indented block after 'for' statement on line 2\n"
     ]
    }
   ],
   "source": [
    "lists=[34,12,65,16,2,78]\n",
    "for tmp in lists:\n",
    "print(tmp)"
   ]
  },
  {
   "cell_type": "code",
   "execution_count": 27,
   "id": "e44730f7-3301-4893-9ee9-51b017a36123",
   "metadata": {},
   "outputs": [
    {
     "name": "stdout",
     "output_type": "stream",
     "text": [
      "34\n",
      "12\n",
      "65\n",
      "16\n",
      "2\n",
      "78\n"
     ]
    }
   ],
   "source": [
    "lists=[34,12,65,16,2,78]\n",
    "for tmp in lists:\n",
    "    print(tmp)"
   ]
  },
  {
   "cell_type": "code",
   "execution_count": 29,
   "id": "bae5accc-11cd-49fa-bb1b-1cbaf6baa297",
   "metadata": {},
   "outputs": [
    {
     "name": "stdout",
     "output_type": "stream",
     "text": [
      "Adult\n",
      "children\n",
      "Adult\n",
      "children\n",
      "children\n",
      "Adult\n"
     ]
    }
   ],
   "source": [
    "lists=[34,12,65,16,2,78]\n",
    "for tmp in lists:\n",
    "    if(tmp < 18):\n",
    "        print(\"children\")\n",
    "    else:\n",
    "        print(\"Adult\")\n",
    "        "
   ]
  },
  {
   "cell_type": "code",
   "execution_count": null,
   "id": "35b96de4-18e6-4b6a-99c1-4395a75f1b34",
   "metadata": {},
   "outputs": [],
   "source": []
  }
 ],
 "metadata": {
  "kernelspec": {
   "display_name": "Python [conda env:base] *",
   "language": "python",
   "name": "conda-base-py"
  },
  "language_info": {
   "codemirror_mode": {
    "name": "ipython",
    "version": 3
   },
   "file_extension": ".py",
   "mimetype": "text/x-python",
   "name": "python",
   "nbconvert_exporter": "python",
   "pygments_lexer": "ipython3",
   "version": "3.12.7"
  }
 },
 "nbformat": 4,
 "nbformat_minor": 5
}
