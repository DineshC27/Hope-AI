{
 "cells": [
  {
   "cell_type": "code",
   "execution_count": 7,
   "id": "370a2333-116d-41d7-b55a-9b2930af8030",
   "metadata": {},
   "outputs": [
    {
     "name": "stdout",
     "output_type": "stream",
     "text": [
      "0\n",
      "1\n",
      "2\n",
      "3\n",
      "4\n",
      "5\n",
      "6\n",
      "7\n",
      "8\n",
      "9\n",
      "10\n",
      "11\n",
      "12\n",
      "13\n",
      "14\n",
      "15\n",
      "16\n",
      "17\n",
      "18\n",
      "19\n"
     ]
    }
   ],
   "source": [
    "for tmp in range(20):\n",
    "    print(tmp)\n"
   ]
  },
  {
   "cell_type": "code",
   "execution_count": 23,
   "id": "ef3199bb-284c-41d2-bd50-d8ed31689848",
   "metadata": {},
   "outputs": [
    {
     "name": "stdout",
     "output_type": "stream",
     "text": [
      "10 11 12 13 14 15 16 17 18 19 "
     ]
    }
   ],
   "source": [
    "\n",
    "for tmp in range(10,20):\n",
    "    print(tmp, end=\" \")"
   ]
  },
  {
   "cell_type": "code",
   "execution_count": 5,
   "id": "b6e7ecac-a647-4f2a-85a8-ae6d878a19e2",
   "metadata": {},
   "outputs": [
    {
     "name": "stdout",
     "output_type": "stream",
     "text": [
      "[10, 20, 14, 55, 43, 87, 76]\n",
      "Number of item in the Lists : 7\n"
     ]
    }
   ],
   "source": [
    "lists=[10,20,14,55,43,87,76]\n",
    "print(lists)\n",
    "print(\"Number of item in the Lists :\",len(lists))"
   ]
  },
  {
   "cell_type": "code",
   "execution_count": 13,
   "id": "91b699e1-d891-4d6b-9e8d-dd7da48897cf",
   "metadata": {},
   "outputs": [
    {
     "name": "stdout",
     "output_type": "stream",
     "text": [
      "Artificial Intelligence\n",
      "A\n",
      "r\n",
      "t\n",
      "i\n",
      "f\n",
      "i\n",
      "c\n",
      "i\n",
      "a\n",
      "l\n",
      " \n",
      "I\n",
      "n\n",
      "t\n",
      "e\n",
      "l\n",
      "l\n",
      "i\n",
      "g\n",
      "e\n",
      "n\n",
      "c\n",
      "e\n"
     ]
    }
   ],
   "source": [
    "strs = \"Artificial Intelligence\"\n",
    "lists = list(strs)\n",
    "print(strs)\n",
    "for tmp in lists:\n",
    "    print(tmp)"
   ]
  },
  {
   "cell_type": "markdown",
   "id": "6ab0e861-5623-42e2-af7d-dfb99f2b673c",
   "metadata": {},
   "source": [
    "Unable to understand the requirement\n",
    "-Your Name-\n",
    "-Your Age-\n",
    "-Your Profession-"
   ]
  },
  {
   "cell_type": "code",
   "execution_count": 15,
   "id": "414eb544-d1ff-4a23-bb4c-7aa459914b5a",
   "metadata": {},
   "outputs": [
    {
     "name": "stdout",
     "output_type": "stream",
     "text": [
      "(1, 'welcome', 2, 'Hope')\n"
     ]
    }
   ],
   "source": [
    "Tuples1=(1,'welcome',2,'Hope')\n",
    "print(Tuples1)"
   ]
  },
  {
   "cell_type": "code",
   "execution_count": 27,
   "id": "2cb31533-0b53-4f7e-8a9b-7b9791bd6fd3",
   "metadata": {},
   "outputs": [
    {
     "name": "stdout",
     "output_type": "stream",
     "text": [
      "((0, 1, 2, 3), ('python', 'HOPE'))\n"
     ]
    }
   ],
   "source": [
    "Tuple1=(0,1,2,3)\n",
    "Tuple2=('python','HOPE')\n",
    "Tuple3=Tuple1 , Tuple2\n",
    "print(Tuple3)"
   ]
  },
  {
   "cell_type": "code",
   "execution_count": 37,
   "id": "e6d5307a-fb7e-4a83-8796-494f5b70a8fa",
   "metadata": {},
   "outputs": [
    {
     "name": "stdout",
     "output_type": "stream",
     "text": [
      "(20, 10, 16, 19, 25, 1, 276, 118)\n",
      "19  is odd\n",
      "25  is odd\n",
      "1  is odd\n"
     ]
    }
   ],
   "source": [
    "tuples=(20,10,16,19,25,1,276,118)\n",
    "print(tuples)\n",
    "for tmp in tuples:\n",
    "    if(tmp%2!=0):\n",
    "        print(tmp,\" is odd\")"
   ]
  },
  {
   "cell_type": "code",
   "execution_count": 39,
   "id": "13e023e1-ed59-477b-806b-fc3ca31b62fd",
   "metadata": {},
   "outputs": [
    {
     "name": "stdout",
     "output_type": "stream",
     "text": [
      "(20, 10, 16, 19, 25, 1, 276, 118)\n",
      "20  is odd\n",
      "10  is odd\n",
      "16  is odd\n",
      "276  is odd\n",
      "118  is odd\n"
     ]
    }
   ],
   "source": [
    "tuples=(20,10,16,19,25,1,276,118)\n",
    "print(tuples)\n",
    "for tmp in tuples:\n",
    "    if(tmp%2==0):\n",
    "        print(tmp,\" is odd\")"
   ]
  },
  {
   "cell_type": "code",
   "execution_count": null,
   "id": "4521bf07-82ad-4331-a833-39c1d0c44d64",
   "metadata": {},
   "outputs": [],
   "source": []
  }
 ],
 "metadata": {
  "kernelspec": {
   "display_name": "Python [conda env:base] *",
   "language": "python",
   "name": "conda-base-py"
  },
  "language_info": {
   "codemirror_mode": {
    "name": "ipython",
    "version": 3
   },
   "file_extension": ".py",
   "mimetype": "text/x-python",
   "name": "python",
   "nbconvert_exporter": "python",
   "pygments_lexer": "ipython3",
   "version": "3.12.7"
  }
 },
 "nbformat": 4,
 "nbformat_minor": 5
}
