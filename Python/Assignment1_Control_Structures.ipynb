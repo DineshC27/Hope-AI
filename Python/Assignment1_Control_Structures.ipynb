{
 "cells": [
  {
   "cell_type": "code",
   "execution_count": 1,
   "id": "a5870664-6568-4921-a05f-cb0cbf959e5c",
   "metadata": {},
   "outputs": [
    {
     "name": "stdout",
     "output_type": "stream",
     "text": [
      "Welcome to Assignment-1\n"
     ]
    }
   ],
   "source": [
    "print(\"Welcome to Assignment-1\")"
   ]
  },
  {
   "cell_type": "code",
   "execution_count": 3,
   "id": "3605a6a9-8bb5-425b-a820-1d4ae9351163",
   "metadata": {},
   "outputs": [
    {
     "name": "stdout",
     "output_type": "stream",
     "text": [
      "Num1=  10\n",
      "Num2=  30\n",
      "Add=  40\n"
     ]
    }
   ],
   "source": [
    "Num1=10\n",
    "Num2=30\n",
    "print(\"Num1= \",Num1)\n",
    "print(\"Num2= \",Num2)\n",
    "print(\"Add= \",Num1+Num2)"
   ]
  },
  {
   "cell_type": "markdown",
   "id": "cddaf6f1-9bfd-4b39-98be-836c2c81b1b7",
   "metadata": {},
   "source": [
    "<16.0 : Severely Underweight\n",
    "16.0 - 18.4 : Underweight\n",
    "18.5-24.9 : Normal\n",
    "25.0-29.9 : Overweight\n",
    "30.0-34.9 : Moderately Obese\n",
    "35.0-39.9 : Severely Obese\n",
    ">40 : Morbidly Obese"
   ]
  },
  {
   "cell_type": "code",
   "execution_count": 5,
   "id": "4355ec28-67f9-48d0-8e9b-dc5fa5ad0b9d",
   "metadata": {},
   "outputs": [
    {
     "name": "stdin",
     "output_type": "stream",
     "text": [
      "Enter your age:  25\n"
     ]
    },
    {
     "name": "stdout",
     "output_type": "stream",
     "text": [
      "Overweight\n"
     ]
    }
   ],
   "source": [
    "BMI=int(input(\"Enter the BMI Index: \"))\n",
    "if(BMI < 16 ):\n",
    "    print(\"Severely Underweight\")\n",
    "elif(BMI <=18.4):\n",
    "    print(\"Underweight\")\n",
    "elif(BMI  <=24.9):\n",
    "    print(\"Normal\")\n",
    "elif(BMI<=29.9):\n",
    "    print(\"Overweight\")\n",
    "elif(BMI <=34.9):\n",
    "    print(\"Moderately Obese\")\n",
    "elif(BMI  <=39.9):\n",
    "    print(\"Severely Obese\")\n",
    "else:\n",
    "    print(\"Morbidly Obese\")    "
   ]
  },
  {
   "cell_type": "code",
   "execution_count": null,
   "id": "e5d6624d-9619-4afa-a790-a40ec40ee362",
   "metadata": {},
   "outputs": [],
   "source": []
  }
 ],
 "metadata": {
  "kernelspec": {
   "display_name": "Python [conda env:base] *",
   "language": "python",
   "name": "conda-base-py"
  },
  "language_info": {
   "codemirror_mode": {
    "name": "ipython",
    "version": 3
   },
   "file_extension": ".py",
   "mimetype": "text/x-python",
   "name": "python",
   "nbconvert_exporter": "python",
   "pygments_lexer": "ipython3",
   "version": "3.12.7"
  }
 },
 "nbformat": 4,
 "nbformat_minor": 5
}
